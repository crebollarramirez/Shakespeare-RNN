{
 "cells": [
  {
   "cell_type": "code",
   "execution_count": 1,
   "metadata": {},
   "outputs": [],
   "source": [
    "import torch\n",
    "\n",
    "from generate import generate_text\n",
    "from util import encode_text"
   ]
  },
  {
   "cell_type": "code",
   "execution_count": 2,
   "metadata": {},
   "outputs": [],
   "source": [
    "input_file = 'data/tiny_shakespeare.txt'\n",
    "device = torch.device(\"cuda\" if torch.cuda.is_available() else \"cpu\")\n",
    "\n",
    "encoded_text, vocab_size, char_to_idx, idx_to_char = encode_text(input_file)\n",
    "\n",
    "# Load best model\n",
    "model_path = \"models/128_increased_lstm_config\" # put best model here\n",
    "model = torch.load(model_path)"
   ]
  },
  {
   "cell_type": "code",
   "execution_count": 3,
   "metadata": {},
   "outputs": [
    {
     "name": "stdout",
     "output_type": "stream",
     "text": [
      "Macbeth\n",
      " by William Shakespeare\n",
      " Edited by Barbara A. Mowat and Paul Werstined\n",
      "In this the state and be here intent a shin\n",
      "That she will die the sword of hope had no more\n",
      "To make you the soldier and my son and\n",
      "The same is the princely likely as far off\n",
      "The father is the thing by the content.\n",
      "\n",
      "Second Servant:\n",
      "Have you seen the like? and he were worthy\n",
      "As I should have more in the people,\n",
      "And the appellant did the truth of many\n",
      "Than the common common land of my work,\n",
      "And stand no man that our sister to my royal cause,\n",
      "And I have been so long, and thy father take,\n",
      "When in the horse of our sweet tears in the people,\n",
      "To make my like a word for the duke and the\n",
      "such a sea that the thing I mean the hours\n",
      "Have steal'd the presence with the people all the city,\n",
      "Or have made the shame of the crown of the child,\n",
      "And there it were the single spirits the sweet father,\n",
      "From my false lasts are borrow, that have done\n",
      "The sea that the oracle of the world\n",
      "Of which have but made the prince to my chamber.\n",
      "\n",
      "GLOUCESTER:\n",
      "Why, then, there is the strength of the sight of the soul.\n",
      "\n",
      "HEN\n"
     ]
    }
   ],
   "source": [
    "# run until happy with output\n",
    "generated_high = generate_text(model, device, char_to_idx, idx_to_char, max_len=1000, temp=0.5)\n",
    "print(generated_high)\n",
    "\n",
    "with open(\"generated_text/generated_high.txt\", \"w\") as f:\n",
    "    f.write(generated_high)"
   ]
  },
  {
   "cell_type": "code",
   "execution_count": 4,
   "metadata": {},
   "outputs": [
    {
     "name": "stdout",
     "output_type": "stream",
     "text": [
      "Macbeth\n",
      " by William Shakespeare\n",
      " Edited by Barbara A. Mowat and Paul Werstine.\n",
      "Which have answer'd his knee that time a while:\n",
      "Sorrow I know, I pray, is it? he came to my\n",
      "falchious bloods: the morning clurs of this law,\n",
      "The maperty of the like shapel for this\n",
      "still that seest wishes stot, even till she worthy as he\n",
      "hour't, thou wast companion of haste: let me none.\n",
      "\n",
      "Second Murderer:\n",
      "Were I dare'd out again to thy husband brother.\n",
      "I have working that offence in my days\n",
      "Put off a ragewely word'd you or to.\n",
      "\n",
      "CAMILLO:\n",
      "My lord, dit it come.\n",
      "\n",
      "Clower:\n",
      "If I drown the best offencest the hill,\n",
      "And with twenty instrume's ages on 'twas so\n",
      "from a legs promption of the pateon: his like speeds\n",
      "As in the Biton of the bearding\n",
      "This world arraw the shape.\n",
      "\n",
      "AUFIDIUS:\n",
      "O, necessant till your graves, let her\n",
      "Edward many so tradell should be acquainted:\n",
      "you were irstunded in our state, think over oracle,\n",
      "We'll promise of Jack: having have king'd her last.\n",
      "\n",
      "BIANCA:\n",
      "Vert, peace! What, hid shall our queen at mine?\n",
      "Nurse, you not not, now the quarrelling two Page.\n",
      "Come, fine and draw; an\n"
     ]
    }
   ],
   "source": [
    "# run until happy with output\n",
    "generated_med = generate_text(model, device, char_to_idx, idx_to_char, max_len=1000, temp=1)\n",
    "print(generated_med)\n",
    "\n",
    "with open(\"generated_text/generated_med.txt\", \"w\") as f:\n",
    "    f.write(generated_med)"
   ]
  },
  {
   "cell_type": "code",
   "execution_count": 5,
   "metadata": {},
   "outputs": [
    {
     "name": "stdout",
     "output_type": "stream",
     "text": [
      "Macbeth\n",
      " by William Shakespeare\n",
      " Edited by Barbara A. Mowat and Paul Werstine,;\n",
      "To't up your hopmetiss'd wisder Hanvs.'\n",
      "Oft hit sorrow.\n",
      "Augh'd, STee: you;--\n",
      "And selse?\n",
      "\n",
      "SUY:\n",
      "By anmoney, you know't,\n",
      "Yur sweet Peuchpkga! no; nmslepacle.\n",
      "dif, wellom fortuna-up!\n",
      "Votters, Rhyor's eac live,--Hark it's hottenno arusual'd,\n",
      "mildely: but swaketh youthorser, God, Jergm!\n",
      "Doys elspyh Ratclic, with shrow.\n",
      "\n",
      "ENWARD:\n",
      "Yes! the debt hencative? Tabth-forghfute; by!\n",
      "o't Shiannas venU: his ovarw'd gitdrr citizency;\n",
      "g, odknital, Lardnessurole on:\n",
      "Wsick nowinge, it\n",
      "pibels, u,ar thifker'd! findds him oighteous fausor,\n",
      "I'll alreyings ucotuaz on; nove wy Oxford; floriour Ox On,\n",
      "Arcon:-led necessed; wit'd alway luvia\n",
      "Mars, quictfatr may convenamatlly; the\n",
      "wrath musiriss unmigtorfy, lrros, lowethlipmance\n",
      "As a', usp-dignity, despile oachingsion,C-cried\n",
      "like, hall't not-pyun cooparew'd Vylicis?'\n",
      "My upunywes livemb. If you Lever fighed's loss;\n",
      "Getffic ig Send harry, 'tis his pawsnenG--\n",
      "scumy young long peio! Cundy Kudis those half?.W\n",
      "Andutiption! So Pamppoful\n",
      "Echorst: knew\n",
      "'qwi, now'could lay\n"
     ]
    }
   ],
   "source": [
    "# run until happy with output\n",
    "generated_low = generate_text(model, device, char_to_idx, idx_to_char, max_len=1000, temp=2)\n",
    "print(generated_low)\n",
    "\n",
    "with open(\"generated_text/generated_low.txt\", \"w\") as f:\n",
    "    f.write(generated_low)"
   ]
  }
 ],
 "metadata": {
  "kernelspec": {
   "display_name": "venv",
   "language": "python",
   "name": "python3"
  },
  "language_info": {
   "codemirror_mode": {
    "name": "ipython",
    "version": 3
   },
   "file_extension": ".py",
   "mimetype": "text/x-python",
   "name": "python",
   "nbconvert_exporter": "python",
   "pygments_lexer": "ipython3",
   "version": "3.10.16"
  }
 },
 "nbformat": 4,
 "nbformat_minor": 4
}
