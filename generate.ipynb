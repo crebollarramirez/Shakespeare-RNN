{
 "cells": [
  {
   "cell_type": "code",
   "execution_count": 2,
   "metadata": {},
   "outputs": [],
   "source": [
    "import torch\n",
    "\n",
    "from generate import generate_text\n",
    "from util import encode_text\n",
    "from config import load_config\n",
    "\n",
    "from shakespeare_lstm import LSTMModel\n",
    "from shakespeare_rnn import RNNModel"
   ]
  },
  {
   "cell_type": "code",
   "execution_count": 3,
   "metadata": {},
   "outputs": [],
   "source": [
    "input_file = 'data/tiny_shakespeare.txt'\n",
    "device = torch.device(\"cuda\" if torch.cuda.is_available() else \"cpu\")\n",
    "\n",
    "encoded_text, vocab_size, char_to_idx, idx_to_char = encode_text(input_file)\n",
    "\n",
    "#### Load best model\n",
    "model_path = \"models/increased_layers_lstm_config\" # put best model here\n",
    "model = torch.load(model_path)"
   ]
  },
  {
   "cell_type": "code",
   "execution_count": 4,
   "metadata": {},
   "outputs": [
    {
     "name": "stdout",
     "output_type": "stream",
     "text": [
      "Macbeth\n",
      " by William Shakespeare\n",
      " Edited by Barbara A. Mowat and Paul Werstined so dead!\n",
      "\n",
      "LUCIO:\n",
      "I will not be so much banish'd not him within the face, and say the curst drunk about one to the sure father,\n",
      "As doubt about the people and call a son, the duke to the new but here and play to the life of your children. Come, though you say, but the hands and faith.\n",
      "\n",
      "GREMIO:\n",
      "What is the sun shall not in the world and death in our but a women conceit of prince, who lead him and this word.\n",
      "\n",
      "BIONDELLO:\n",
      "If you must not say thou let me not thy blood of any witness of a thing of my heart\n",
      "And my son the form of a tunes of the deeds that thou can not were not come to this father to him and her presence of the heir and the more.\n",
      "\n",
      "DUKE VINCENTIO:\n",
      "I'll not like a son, to shall not were not the duke is the world, and his tongue to the love and more than you shall thank you the world,\n",
      "That the deep in the former thoughts,\n",
      "And so sting and not so and yet she would be prove a ball of the conscience, and not hand to be therein there a cause of the part himself, and his sharlish in t\n"
     ]
    }
   ],
   "source": [
    "# run until happy with output\n",
    "generated_high = generate_text(model, device, char_to_idx, idx_to_char, max_len=1000, temp=0.5)\n",
    "print(generated_high)\n",
    "\n",
    "with open(\"generated_high.txt\", \"w\") as f:\n",
    "    f.write(generated_high)"
   ]
  },
  {
   "cell_type": "code",
   "execution_count": 5,
   "metadata": {},
   "outputs": [
    {
     "name": "stdout",
     "output_type": "stream",
     "text": [
      "Macbeth\n",
      " by William Shakespeare\n",
      " Edited by Barbara A. Mowat and Paul Werstines of contempt,\n",
      "Is thou to honour but single! yet, but you middy pleasure,\n",
      "Or prayer day with curse from my dubbs that he, it said only sleetful cast and terminal tears? was none of him as he is not in your redby of There\n",
      "Than thought powerforthy eyes.\n",
      "\n",
      "A'dencets: you as thou hast fall;\n",
      "This you may respect to left die,\n",
      "proof will therefore I know two gives thee thy parts?\n",
      "\n",
      "MENENIUS:\n",
      "O, will to have knew Lancaster, get thee how with judgers\n",
      "Nay damphstry is a fellow selding treason that confession?\n",
      "\n",
      "KINGHRAND:\n",
      "Tell these westiles, is long half my blow\n",
      "My tateman that the face.\n",
      "\n",
      "MAMILLIUC:\n",
      "Ay, peril should young Gaunt,\n",
      "And thy shimple spark one that remember royal afford\n",
      "Have stop me to delivery wedding are retung it not: who is one chastings done.\n",
      "\n",
      "KING HENRY VI:\n",
      "Let's only hath\n",
      "knoward honour of Sairly. Pread, desire, lost at both!\n",
      "\n",
      "ECMONIO:\n",
      "What, by a purse of deeds mad what old wanss that yet I to our command sworn with command\n",
      "She more a lances shall think and ramed thee thou diest \n"
     ]
    }
   ],
   "source": [
    "# run until happy with output\n",
    "generated_med = generate_text(model, device, char_to_idx, idx_to_char, max_len=1000, temp=1)\n",
    "print(generated_med)\n",
    "\n",
    "with open(\"generated_med.txt\", \"w\") as f:\n",
    "    f.write(generated_med)"
   ]
  },
  {
   "cell_type": "code",
   "execution_count": 6,
   "metadata": {},
   "outputs": [
    {
     "name": "stdout",
     "output_type": "stream",
     "text": [
      "Macbeth\n",
      " by William Shakespeare\n",
      " Edited by Barbara A. Mowat and Paul Werstinemaes, ghend duin, bregvents; I\n",
      "illy-seldft!\n",
      "Brisman:\n",
      "Tizuats, by thy mothry?\n",
      "Why, if at fin idle! No Oxfoct.\n",
      "It whast kill feremosin't acham\n",
      "Abilifrry win, snows breat couttu lisble,--hooo namby ashord I dridlish, yol, Rose\n",
      "Gry onl, I chen! you be? us?\n",
      "\n",
      "LORD YTOR:\n",
      "Soee thy edeately.\n",
      "My desidchend far\n",
      "S wit Govsh-cer away Proly-anuwness?\n",
      "\n",
      "LEORTUMTAR:\n",
      "Please I'l, here, calleth the'ld bring!\n",
      "Is nom! my quick! Welf spehal,\n",
      "for, Effuseirel's county!\n",
      "Was, swweeched awdig: ru: bkt Dorset; Baun;\n",
      "Ye, put-Aime.\n",
      "\n",
      "\n",
      "ESCLAUR,:\n",
      "of-chancee\n",
      "Cleop'd slandvantade satly well!\n",
      "Asu: aarnor?\n",
      "Whkin uhly fnost\n",
      "My Tower flowers! male. Citips;\n",
      "Wisniftedg-ggenisey;\n",
      "And maste, thrid nofl ye womun bacian-lago.\n",
      "\n",
      "AETcAquressa:\n",
      "My gest justy old fomnetriming,\n",
      "Idks't-forsoph cut merrymorc livi'y in Paul. whose heilhtanunape ruispy bEdaded,?NolaCled is nore unpur: I'' Degna.z't much,\n",
      "'spur, threedforsh itler a surzing blk\n",
      "wadvy.\n",
      "Would it, prarde: clate thee: 't notwespop Kavef prcudes son:\n",
      "a he, yell; nonk you: Mill yie\n"
     ]
    }
   ],
   "source": [
    "# run until happy with output\n",
    "generated_low = generate_text(model, device, char_to_idx, idx_to_char, max_len=1000, temp=2)\n",
    "print(generated_low)\n",
    "\n",
    "with open(\"generated_low.txt\", \"w\") as f:\n",
    "    f.write(generated_low)"
   ]
  },
  {
   "cell_type": "code",
   "execution_count": null,
   "metadata": {},
   "outputs": [],
   "source": []
  }
 ],
 "metadata": {
  "kernelspec": {
   "display_name": "Python 3 (ipykernel)",
   "language": "python",
   "name": "python3"
  },
  "language_info": {
   "codemirror_mode": {
    "name": "ipython",
    "version": 3
   },
   "file_extension": ".py",
   "mimetype": "text/x-python",
   "name": "python",
   "nbconvert_exporter": "python",
   "pygments_lexer": "ipython3",
   "version": "3.11.9"
  },
  "vscode": {
   "interpreter": {
    "hash": "2888842163b937023cf53daff5d4a4c1ed79b87074d254ec72b86756a0c0504f"
   }
  }
 },
 "nbformat": 4,
 "nbformat_minor": 4
}
